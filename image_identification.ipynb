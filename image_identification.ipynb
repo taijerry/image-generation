{
 "cells": [
  {
   "cell_type": "code",
   "execution_count": 1,
   "metadata": {},
   "outputs": [
    {
     "name": "stderr",
     "output_type": "stream",
     "text": [
      "Using TensorFlow backend.\n"
     ]
    }
   ],
   "source": [
    "import os\n",
    "import keras\n",
    "from tensorflow.keras.models import Sequential\n",
    "from tensorflow.keras.layers import Dense, Dropout, Flatten\n",
    "from tensorflow.keras.layers import Conv2D, MaxPooling2D\n",
    "from tensorflow.keras.utils import to_categorical\n",
    "from tensorflow.keras.preprocessing import image\n",
    "import numpy as np\n",
    "import pandas as pd\n",
    "import matplotlib.pyplot as plt\n",
    "from sklearn.model_selection import train_test_split\n",
    "from tensorflow.keras.utils import to_categorical\n",
    "from tqdm import tqdm"
   ]
  },
  {
   "cell_type": "code",
   "execution_count": 2,
   "metadata": {},
   "outputs": [],
   "source": [
    "train = pd.read_csv('./train_LbELtWX/train70000.csv')"
   ]
  },
  {
   "cell_type": "code",
   "execution_count": 3,
   "metadata": {},
   "outputs": [
    {
     "name": "stdout",
     "output_type": "stream",
     "text": [
      "          id  label  Unnamed: 2  Unnamed: 3  Unnamed: 4  Unnamed: 5\n",
      "0          1      9         NaN         NaN         1.0         9.0\n",
      "1          2      0         NaN         NaN         2.0         0.0\n",
      "2          3      0         NaN         NaN         3.0         0.0\n",
      "3          4      3         NaN         NaN         4.0         3.0\n",
      "4          5      0         NaN         NaN         5.0         0.0\n",
      "5          6      2         NaN         NaN         6.0         2.0\n",
      "6          7      7         NaN         NaN         7.0         7.0\n",
      "7          8      2         NaN         NaN         8.0         2.0\n",
      "8          9      5         NaN         NaN         9.0         5.0\n",
      "9         10      5         NaN         NaN        10.0         5.0\n",
      "10        11      0         NaN         NaN        11.0         0.0\n",
      "11        12      9         NaN         NaN        12.0         9.0\n",
      "12        13      5         NaN         NaN        13.0         5.0\n",
      "13        14      5         NaN         NaN        14.0         5.0\n",
      "14        15      7         NaN         NaN        15.0         7.0\n",
      "15        16      9         NaN         NaN        16.0         9.0\n",
      "16        17      1         NaN         NaN        17.0         1.0\n",
      "17        18      0         NaN         NaN        18.0         0.0\n",
      "18        19      6         NaN         NaN        19.0         6.0\n",
      "19        20      4         NaN         NaN        20.0         4.0\n",
      "20        21      3         NaN         NaN        21.0         3.0\n",
      "21        22      1         NaN         NaN        22.0         1.0\n",
      "22        23      4         NaN         NaN        23.0         4.0\n",
      "23        24      8         NaN         NaN        24.0         8.0\n",
      "24        25      4         NaN         NaN        25.0         4.0\n",
      "25        26      3         NaN         NaN        26.0         3.0\n",
      "26        27      0         NaN         NaN        27.0         0.0\n",
      "27        28      2         NaN         NaN        28.0         2.0\n",
      "28        29      4         NaN         NaN        29.0         4.0\n",
      "29        30      4         NaN         NaN        30.0         4.0\n",
      "...      ...    ...         ...         ...         ...         ...\n",
      "69970  69971      6         NaN         NaN         NaN         NaN\n",
      "69971  69972      5         NaN         NaN         NaN         NaN\n",
      "69972  69973      6         NaN         NaN         NaN         NaN\n",
      "69973  69974      4         NaN         NaN         NaN         NaN\n",
      "69974  69975      1         NaN         NaN         NaN         NaN\n",
      "69975  69976      7         NaN         NaN         NaN         NaN\n",
      "69976  69977      5         NaN         NaN         NaN         NaN\n",
      "69977  69978      1         NaN         NaN         NaN         NaN\n",
      "69978  69979      6         NaN         NaN         NaN         NaN\n",
      "69979  69980      5         NaN         NaN         NaN         NaN\n",
      "69980  69981      9         NaN         NaN         NaN         NaN\n",
      "69981  69982      0         NaN         NaN         NaN         NaN\n",
      "69982  69983      8         NaN         NaN         NaN         NaN\n",
      "69983  69984      3         NaN         NaN         NaN         NaN\n",
      "69984  69985      5         NaN         NaN         NaN         NaN\n",
      "69985  69986      3         NaN         NaN         NaN         NaN\n",
      "69986  69987      5         NaN         NaN         NaN         NaN\n",
      "69987  69988      3         NaN         NaN         NaN         NaN\n",
      "69988  69989      1         NaN         NaN         NaN         NaN\n",
      "69989  69990      3         NaN         NaN         NaN         NaN\n",
      "69990  69991      7         NaN         NaN         NaN         NaN\n",
      "69991  69992      9         NaN         NaN         NaN         NaN\n",
      "69992  69993      9         NaN         NaN         NaN         NaN\n",
      "69993  69994      4         NaN         NaN         NaN         NaN\n",
      "69994  69995      4         NaN         NaN         NaN         NaN\n",
      "69995  69996      7         NaN         NaN         NaN         NaN\n",
      "69996  69997      5         NaN         NaN         NaN         NaN\n",
      "69997  69998      0         NaN         NaN         NaN         NaN\n",
      "69998  69999      6         NaN         NaN         NaN         NaN\n",
      "69999  70000      6         NaN         NaN         NaN         NaN\n",
      "\n",
      "[70000 rows x 6 columns]\n"
     ]
    }
   ],
   "source": [
    "print(train)"
   ]
  },
  {
   "cell_type": "code",
   "execution_count": 4,
   "metadata": {},
   "outputs": [],
   "source": [
    "import matplotlib.pyplot as plt"
   ]
  },
  {
   "cell_type": "code",
   "execution_count": 5,
   "metadata": {},
   "outputs": [
    {
     "name": "stderr",
     "output_type": "stream",
     "text": [
      "  0%|          | 0/70000 [00:00<?, ?it/s]/Applications/anaconda3/lib/python3.7/site-packages/keras_preprocessing/image/utils.py:104: UserWarning: grayscale is deprecated. Please use color_mode = \"grayscale\"\n",
      "  warnings.warn('grayscale is deprecated. Please use '\n",
      "100%|██████████| 70000/70000 [01:15<00:00, 925.22it/s] \n"
     ]
    }
   ],
   "source": [
    "# We have grayscale images, so while loading the images we will keep grayscale=True, if you have RGB images, you should set grayscale as False\n",
    "train_image = []\n",
    "for i in tqdm(range(train.shape[0])):\n",
    "    img = image.load_img('./train_LbELtWX/train/'+train['id'][i].astype('str')+'.png', target_size=(28,28,1), grayscale=True)\n",
    "    img = image.img_to_array(img)\n",
    "    img = img/255\n",
    "    train_image.append(img)\n",
    "X = np.array(train_image)"
   ]
  },
  {
   "cell_type": "code",
   "execution_count": 6,
   "metadata": {},
   "outputs": [
    {
     "data": {
      "image/png": "[encoded data removed]",
      "text/plain": [
       "<Figure size 720x720 with 1 Axes>"
      ]
     },
     "metadata": {
      "needs_background": "light"
     },
     "output_type": "display_data"
    }
   ],
   "source": [
    "fig, ax = plt.subplots(1, 1, figsize=(10, 10))\n",
    "plt.axis('off')\n",
    "plt.imshow(train_image[2][0],cmap='gray')\n",
    "plt.show()"
   ]
  },
  {
   "cell_type": "code",
   "execution_count": 7,
   "metadata": {},
   "outputs": [
    {
     "name": "stdout",
     "output_type": "stream",
     "text": [
      "[[0. 0. 0. ... 0. 0. 1.]\n",
      " [1. 0. 0. ... 0. 0. 0.]\n",
      " [1. 0. 0. ... 0. 0. 0.]\n",
      " ...\n",
      " [1. 0. 0. ... 0. 0. 0.]\n",
      " [0. 0. 0. ... 0. 0. 0.]\n",
      " [0. 0. 0. ... 0. 0. 0.]]\n"
     ]
    }
   ],
   "source": [
    "y=train['label'].values\n",
    "y = to_categorical(y) # convert it to 2 categories (0 or 1). So 2 columns\n",
    "print(y)"
   ]
  },
  {
   "cell_type": "code",
   "execution_count": 8,
   "metadata": {},
   "outputs": [],
   "source": [
    "X_train, X_test, y_train, y_test = train_test_split(X, y, random_state=42, test_size=0.2)"
   ]
  },
  {
   "cell_type": "code",
   "execution_count": 9,
   "metadata": {},
   "outputs": [],
   "source": [
    "model = Sequential()\n",
    "model.add(Conv2D(32, kernel_size=(3, 3),activation='relu',input_shape=(28,28,1))) # changed this\n",
    "model.add(Conv2D(64, (3, 3), activation='relu'))\n",
    "model.add(MaxPooling2D(pool_size=(2, 2)))\n",
    "model.add(Dropout(0.25))\n",
    "model.add(Flatten())\n",
    "model.add(Dense(128, activation='relu'))\n",
    "model.add(Dropout(0.5))\n",
    "model.add(Dense(10, activation='softmax')) # changed from 10"
   ]
  },
  {
   "cell_type": "code",
   "execution_count": 10,
   "metadata": {},
   "outputs": [],
   "source": [
    "# Compile the model\n",
    "model.compile(loss='categorical_crossentropy',optimizer='Adam',metrics=['accuracy'])"
   ]
  },
  {
   "cell_type": "code",
   "execution_count": 11,
   "metadata": {},
   "outputs": [
    {
     "name": "stdout",
     "output_type": "stream",
     "text": [
      "Train on 56000 samples, validate on 14000 samples\n",
      "Epoch 1/10\n",
      "56000/56000 [==============================] - 130s 2ms/sample - loss: 0.5834 - accuracy: 0.7915 - val_loss: 0.3454 - val_accuracy: 0.8759\n",
      "Epoch 2/10\n",
      "56000/56000 [==============================] - 133s 2ms/sample - loss: 0.3878 - accuracy: 0.8607 - val_loss: 0.3113 - val_accuracy: 0.8869\n",
      "Epoch 3/10\n",
      "56000/56000 [==============================] - 129s 2ms/sample - loss: 0.3363 - accuracy: 0.8779 - val_loss: 0.2735 - val_accuracy: 0.9007\n",
      "Epoch 4/10\n",
      "56000/56000 [==============================] - 131s 2ms/sample - loss: 0.2991 - accuracy: 0.8902 - val_loss: 0.2716 - val_accuracy: 0.9021\n",
      "Epoch 5/10\n",
      "56000/56000 [==============================] - 130s 2ms/sample - loss: 0.2725 - accuracy: 0.8972 - val_loss: 0.2571 - val_accuracy: 0.9060\n",
      "Epoch 6/10\n",
      "56000/56000 [==============================] - 129s 2ms/sample - loss: 0.2466 - accuracy: 0.9088 - val_loss: 0.2557 - val_accuracy: 0.9068\n",
      "Epoch 7/10\n",
      "56000/56000 [==============================] - 129s 2ms/sample - loss: 0.2271 - accuracy: 0.9161 - val_loss: 0.2703 - val_accuracy: 0.9022\n",
      "Epoch 8/10\n",
      "56000/56000 [==============================] - 129s 2ms/sample - loss: 0.2102 - accuracy: 0.9219 - val_loss: 0.2629 - val_accuracy: 0.9069\n",
      "Epoch 9/10\n",
      "56000/56000 [==============================] - 128s 2ms/sample - loss: 0.1937 - accuracy: 0.9276 - val_loss: 0.2683 - val_accuracy: 0.9101\n",
      "Epoch 10/10\n",
      "56000/56000 [==============================] - 129s 2ms/sample - loss: 0.1859 - accuracy: 0.9317 - val_loss: 0.2642 - val_accuracy: 0.9101\n"
     ]
    },
    {
     "data": {
      "text/plain": [
       "<tensorflow.python.keras.callbacks.History at 0x1a66723550>"
      ]
     },
     "execution_count": 11,
     "metadata": {},
     "output_type": "execute_result"
    }
   ],
   "source": [
    "# Train the file\n",
    "model.fit(X_train, y_train, epochs=10, validation_data=(X_test, y_test))\n",
    "# about 15-20 min to process all"
   ]
  }
 ],
 "metadata": {
  "kernelspec": {
   "display_name": "Python 3",
   "language": "python",
   "name": "python3"
  },
  "language_info": {
   "codemirror_mode": {
    "name": "ipython",
    "version": 3
   },
   "file_extension": ".py",
   "mimetype": "text/x-python",
   "name": "python",
   "nbconvert_exporter": "python",
   "pygments_lexer": "ipython3",
   "version": "3.7.3"
  }
 },
 "nbformat": 4,
 "nbformat_minor": 2
}
